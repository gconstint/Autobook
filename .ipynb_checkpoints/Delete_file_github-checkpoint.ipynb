{
 "cells": [
  {
   "cell_type": "markdown",
   "metadata": {
    "pycharm": {
     "name": "#%% md\n"
    }
   },
   "source": [
    "上传项目到Github后，需要删除某个文件夹‘target’或者某个文件‘target’，需要删除掉github远程仓库中的target文件夹  "
   ]
  },
  {
   "cell_type": "markdown",
   "metadata": {
    "pycharm": {
     "name": "#%% md\n"
    }
   },
   "source": [
    "在GitHub上只能删除仓库，却无法删除文件或者文件夹，这是因为GitHub的API不支持删除文件或者文件夹，所以需要使用git命令行来删除  "
   ]
  },
  {
   "cell_type": "markdown",
   "metadata": {
    "pycharm": {
     "name": "#%% md\n"
    }
   },
   "source": [
    "1.首先在你本地的工作文件夹下找到项目文件 然后右键选择Git bash here，打开git命令窗口  "
   ]
  },
  {
   "cell_type": "markdown",
   "metadata": {
    "pycharm": {
     "name": "#%% md\n"
    }
   },
   "source": [
    "涉及到一下git命令：\n",
    "$ git --help                  # 查看git命令  \n",
    "$ git pull origin master      # 将远程仓库里面的项目拉下来  \n",
    "$ dir                         # 查看当前目录下有哪些文件夹  \n",
    "$ git rm -r target            # 删除target文件夹  \n",
    "$ git rm -r --cached target   # 删除target文件夹，但是不删除本地的target文件夹  \n",
    "$ git commit -m \"删除了target\" # 提交删除target的操作  \n",
    "$ git push -u origin master   # 将本次更新推送到远程仓库  "
   ]
  },
  {
   "cell_type": "markdown",
   "metadata": {
    "pycharm": {
     "name": "#%% md\n"
    }
   },
   "source": [
    "2.依次执行：  \n",
    "$ git pull origin master  \n",
    "$ dir  \n",
    "$ git rm -r --cached target  \n",
    "$ git commit -m \"删除了target\"  \n",
    "$ git push -u origin master  "
   ]
  },
  {
   "cell_type": "markdown",
   "metadata": {
    "pycharm": {
     "name": "#%% md\n"
    }
   },
   "source": [
    "3.操作完成.本地项目中的target文件夹不受上述操作影响，删除的只是远程仓库中的target, 可放心删除  \n",
    "每次增加文件或删除文件，都要commit 然后直接 git push -u origin master，就可以同步到github上了  "
   ]
  }
 ],
 "metadata": {
  "kernelspec": {
   "display_name": "Python 3 (ipykernel)",
   "language": "python",
   "name": "python3"
  },
  "language_info": {
   "codemirror_mode": {
    "name": "ipython",
    "version": 3
   },
   "file_extension": ".py",
   "mimetype": "text/x-python",
   "name": "python",
   "nbconvert_exporter": "python",
   "pygments_lexer": "ipython3",
   "version": "3.7.8"
  }
 },
 "nbformat": 4,
 "nbformat_minor": 4
}
